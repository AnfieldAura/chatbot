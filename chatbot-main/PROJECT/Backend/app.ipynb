{
 "cells": [
  {
   "cell_type": "code",
   "execution_count": 6,
   "id": "298e6d36-2697-45f8-9677-cc7a9d5389a3",
   "metadata": {},
   "outputs": [
    {
     "name": "stdout",
     "output_type": "stream",
     "text": [
      " FAISS Index Created & Saved as 'index.faiss'.\n",
      "Preprocessed Data Saved as 'cleaned_data.json'.\n"
     ]
    },
    {
     "name": "stdin",
     "output_type": "stream",
     "text": [
      "Input:  h\n"
     ]
    },
    {
     "name": "stdout",
     "output_type": "stream",
     "text": [
      "\n",
      " Top Matches:\n",
      "\n",
      " Match 1: Faculty in HS Department: The department has a diverse set of faculty members with expertise in various disciplines such as mathematics, physics, chemistry, English, and mechanical engineering. Notable faculty include: 1. Mr. Balakrishna Ushakoyala, HOD, MSc PhD (Mathematics). 2. Mrs. Saritha Gone, HOD, MBA PhD (Finance). 3. Dr. Padmanabha Sastry, Associate Professor, PhD (Mathematics). 4. Dr. Srinivas Mangipudi, Associate Professor, PhD (Physics). 5. Dr. Siperambudur Udaya Laxmi, Associate Professor, PhD (Physics). 6. Dr. Bhikshu N L, Associate Professor, PhD (Mathematics). 7. Dr. Devika Rubi, Associate Professor, PhD (Mathematics). 8. Dr. Pramada Jayanthi, Associate Professor, PhD (Mathematics). 9. Dr. Seshu Bhamidipati, Associate Professor, PhD (Physics). 10. Dr. K Swapna, Associate Professor, PhD (Chemistry).\n",
      "\n",
      " Match 2: Heads of Departments: 1. Dr. Vemula Aruna: CSE HOD. 2. Ms. Rupa Devi: Incharge HOD. 3. Ms. Priyanka Saxena: Incharge HOD. 4. Mr. Para Upendar: Incharge HOD. 5. Dr. G. Narender: IT HOD. 6. Dr. T.V.G. Sridevi: CSE-AI/ML HOD. 7. Mr. Kanil: CSE-Data Science HOD. 8. Ms. Saritha Gone: HS HOD. 9. Dr. Balakrishna Ushakoyala: HS HOD.\n",
      "\n",
      " Match 3: Contact Us: Timings from 09:30 AM to 04:00 PM only on working days. 1. Dr. Vemula Aruna: Associate Professor, HOD CSE, Email: hod@cse.kmit.in. 2. Ms. Rupa Devi T: Assistant Professor, HOD Incharge, Email: csehod2@kmit.in. 3. Ms. Priyanka Saxena: Assistant Professor, HOD Incharge, Email: csehod3@kmit.in. 4. Mr. Para Upendar: Assistant Professor, HOD Incharge, Email: csehod4@kmit.in.\n",
      "\n",
      " Match 4: Contact Us: Timings are from 9:30 AM to 4:00 PM on working days. Faculty contacts: 1. Mr. Balakrishna Ushakoyala, Assistant Professor, HOD, HS (Email: hshod1@kmit.in). 2. Mrs. Saritha Gone, Assistant Professor, HOD, HS (Email: hshod2@kmit.in).\n",
      "\n",
      " Match 5: Autonomous Examination Branch Faculty Staff: 1. Dr. B.L. Malleswari: Principal, Chief Controller of Examinations, Mobile: 9885189917. 2. Dr. S. Udaya Laxmi: Asst. Prof, Controller of Examinations, Mobile: 9949351088. 3. Dr. S.J.S. Antony: Asst. Prof, Addl. Controller of Examinations, Mobile: 9751774188. 4. Mrs. B. Swapna: Asst. Prof, Addl. Controller of Examinations, Mobile: 9849786017. 5. Mr. Sateesh Ravuri: Asst. Prof, Addl. Controller of Examinations, Mobile: 7842409596. 6. Mr. A.N. Sai Chakravarthy: Asst. Prof, Examination Branch Member, Mobile: 8019152919. 7. Mrs. G. Naga Sree Suma: Asst. Prof, Examination Branch Member, Mobile: 7842514399. 8. Mr. K. Rajesh Kumar: Asst. Prof, Examination Branch Member, Mobile: 9392413339. 9. Mr. Shailesh Bhosekar: Asst. Prof, Examination Branch Member, Mobile: 9490682216. 10. Mr. N. Lalitha Manohar: Non-teaching Asst. Admin, Mobile: 9121016889. 11. Mr. C. Naveen Kumar: Non-teaching Asst. Admin, Mobile: 9014846075. 12. Mrs. S. Sunitha: Non-teaching Asst. Admin, Mobile: 9618903337. 13. Mrs. L. Spoorthi Reddy: Non-teaching Asst. Admin, Mobile: 9177275456. 14. Mrs. A. Ravali: Non-teaching Asst. Admin, Mobile: 9154031784.\n",
      "\n"
     ]
    }
   ],
   "source": [
    "from flask import Flask, request, jsonify\n",
    "from flask_cors import CORS\n",
    "import json, faiss\n",
    "import numpy as np\n",
    "from embed import get_embedding\n"
   ]
  },
  {
   "cell_type": "code",
   "execution_count": null,
   "id": "3680009a-bbf0-4bd0-aedf-a696033efb67",
   "metadata": {},
   "outputs": [],
   "source": [
    "app = Flask(__name__)\n",
    "CORS(app)\n",
    "\n",
    "# Load data & FAISS\n",
    "with open(\"cleaned_data.json\", \"r\", encoding=\"utf-8\") as f:\n",
    "    data = json.load(f)\n",
    "\n",
    "text_chunks = [item[\"text\"] for item in data]\n",
    "index = faiss.read_index(\"index.faiss\")\n",
    "\n",
    "@app.route('/search', methods=['POST'])\n",
    "def search():\n",
    "    input_data = request.get_json()\n",
    "    query_text = input_data['query']\n",
    "    query_embedding = get_embedding(query_text).astype(\"float32\")\n",
    "\n",
    "    k = 5\n",
    "    distances, indices = index.search(query_embedding, k)\n",
    "    results = [text_chunks[i] for i in indices[0]]\n",
    "\n",
    "    return jsonify({\"results\": results})\n",
    "\n",
    "if __name__ == \"__main__\":\n",
    "    app.run(debug=True)\n"
   ]
  }
 ],
 "metadata": {
  "kernelspec": {
   "display_name": "Python 3 (ipykernel)",
   "language": "python",
   "name": "python3"
  },
  "language_info": {
   "codemirror_mode": {
    "name": "ipython",
    "version": 3
   },
   "file_extension": ".py",
   "mimetype": "text/x-python",
   "name": "python",
   "nbconvert_exporter": "python",
   "pygments_lexer": "ipython3",
   "version": "3.12.5"
  }
 },
 "nbformat": 4,
 "nbformat_minor": 5
}
