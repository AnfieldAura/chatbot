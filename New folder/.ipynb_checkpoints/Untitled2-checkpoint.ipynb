{
 "cells": [
  {
   "cell_type": "code",
   "execution_count": null,
   "id": "eb93c5a7-d66d-4988-b124-f426317fa934",
   "metadata": {},
   "outputs": [
    {
     "name": "stdout",
     "output_type": "stream",
     "text": [
      "WARNING:tensorflow:From C:\\Users\\addan\\AppData\\Local\\Programs\\Python\\Python312\\Lib\\site-packages\\tf_keras\\src\\losses.py:2976: The name tf.losses.sparse_softmax_cross_entropy is deprecated. Please use tf.compat.v1.losses.sparse_softmax_cross_entropy instead.\n",
      "\n",
      " * Serving Flask app '__main__'\n",
      " * Debug mode: off\n"
     ]
    },
    {
     "name": "stderr",
     "output_type": "stream",
     "text": [
      "WARNING: This is a development server. Do not use it in a production deployment. Use a production WSGI server instead.\n",
      " * Running on all addresses (0.0.0.0)\n",
      " * Running on http://127.0.0.1:5000\n",
      " * Running on http://192.168.0.103:5000\n",
      "Press CTRL+C to quit\n"
     ]
    }
   ],
   "source": [
    "from flask import Flask, request, jsonify\n",
    "import json\n",
    "import faiss\n",
    "import numpy as np\n",
    "from sentence_transformers import SentenceTransformer\n",
    "import threading\n",
    "\n",
    "app = Flask(__name__)\n",
    "\n",
    "# Load everything\n",
    "model = SentenceTransformer('all-MiniLM-L6-v2')\n",
    "index = faiss.read_index(\"faiss_index.index\")\n",
    "\n",
    "with open(\"data.json\", \"r\") as f:\n",
    "    docs = json.load(f)\n",
    "\n",
    "def search_faiss(query, k=1):\n",
    "    embedding = model.encode([query])\n",
    "    D, I = index.search(np.array(embedding), k)\n",
    "    results = [docs[i][\"text\"] for i in I[0]]\n",
    "    return results[0] if results else \"Sorry, I couldn't find anything relevant.\"\n",
    "\n",
    "@app.route('/chat', methods=['POST'])\n",
    "def chat():\n",
    "    data = request.get_json()\n",
    "    message = data.get(\"message\", \"\")\n",
    "    if not message:\n",
    "        return jsonify({\"response\": \"Please provide a message.\"})\n",
    "    \n",
    "    response = search_faiss(message)\n",
    "    return jsonify({\"response\": response})\n",
    "\n",
    "# Run server\n",
    "def run_flask():\n",
    "    app.run(host='0.0.0.0', port=5000)\n",
    "\n",
    "# Run in thread if needed in notebooks\n",
    "if __name__ == \"__main__\":\n",
    "    run_flask()\n"
   ]
  },
  {
   "cell_type": "code",
   "execution_count": null,
   "id": "69fe4d51-3f75-48ff-a5cb-57189402b396",
   "metadata": {},
   "outputs": [],
   "source": []
  }
 ],
 "metadata": {
  "kernelspec": {
   "display_name": "Python 3 (ipykernel)",
   "language": "python",
   "name": "python3"
  },
  "language_info": {
   "codemirror_mode": {
    "name": "ipython",
    "version": 3
   },
   "file_extension": ".py",
   "mimetype": "text/x-python",
   "name": "python",
   "nbconvert_exporter": "python",
   "pygments_lexer": "ipython3",
   "version": "3.12.5"
  }
 },
 "nbformat": 4,
 "nbformat_minor": 5
}
