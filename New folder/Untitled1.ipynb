{
 "cells": [
  {
   "cell_type": "code",
   "execution_count": 2,
   "id": "cd390c77-9b7f-4fbf-a38b-3cca3d860ba9",
   "metadata": {},
   "outputs": [
    {
     "name": "stdout",
     "output_type": "stream",
     "text": [
      "✅ Data prepared and saved: faiss_index.index + data.json\n"
     ]
    }
   ],
   "source": [
    "import json\n",
    "import os\n",
    "from sentence_transformers import SentenceTransformer\n",
    "import faiss\n",
    "import numpy as np\n",
    "\n",
    "# Example content (replace with your real data loading)\n",
    "docs = [\n",
    "    {\"id\": 0, \"text\": \"The admission process begins in April.\"},\n",
    "    {\"id\": 1, \"text\": \"Our campus offers various facilities like a library, gym, and labs.\"},\n",
    "    {\"id\": 2, \"text\": \"The placement cell helps students connect with top companies.\"}\n",
    "]\n",
    "\n",
    "# Load sentence transformer model\n",
    "model = SentenceTransformer('all-MiniLM-L6-v2')\n",
    "\n",
    "# Embed the docs\n",
    "texts = [doc['text'] for doc in docs]\n",
    "embeddings = model.encode(texts)\n",
    "\n",
    "# Save FAISS index\n",
    "dimension = embeddings.shape[1]\n",
    "index = faiss.IndexFlatL2(dimension)\n",
    "index.add(np.array(embeddings))\n",
    "\n",
    "faiss.write_index(index, \"faiss_index.index\")\n",
    "\n",
    "# Save the docs with IDs\n",
    "with open(\"data.json\", \"w\") as f:\n",
    "    json.dump(docs, f)\n",
    "\n",
    "print(\"✅ Data prepared and saved: faiss_index.index + data.json\")\n"
   ]
  },
  {
   "cell_type": "code",
   "execution_count": null,
   "id": "a3ddaa5e-c48b-4eed-8ddd-619d37fb56f2",
   "metadata": {},
   "outputs": [],
   "source": []
  }
 ],
 "metadata": {
  "kernelspec": {
   "display_name": "Python 3 (ipykernel)",
   "language": "python",
   "name": "python3"
  },
  "language_info": {
   "codemirror_mode": {
    "name": "ipython",
    "version": 3
   },
   "file_extension": ".py",
   "mimetype": "text/x-python",
   "name": "python",
   "nbconvert_exporter": "python",
   "pygments_lexer": "ipython3",
   "version": "3.12.5"
  }
 },
 "nbformat": 4,
 "nbformat_minor": 5
}
