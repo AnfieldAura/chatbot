{
 "cells": [
  {
   "cell_type": "code",
   "execution_count": 2,
   "id": "9be797b9-9196-4427-af8f-b533ac39e1cc",
   "metadata": {},
   "outputs": [],
   "source": [
    "import re\n",
    "import json\n",
    "import os\n",
    "import faiss\n",
    "import torch\n",
    "import numpy as np\n",
    "from transformers import AutoTokenizer, AutoModel\n"
   ]
  },
  {
   "cell_type": "code",
   "execution_count": 3,
   "id": "7963f52f-fbcc-4f5d-a84b-afaf13e959ab",
   "metadata": {},
   "outputs": [
    {
     "name": "stdout",
     "output_type": "stream",
     "text": [
      "Preprocessed Data Saved as 'cleaned_data.json'.\n",
      "✅ Step 2 Completed: FAISS Index Created & Saved as 'index.faiss'.\n"
     ]
    }
   ],
   "source": [
    "def clean_text(text):\n",
    "    text = re.sub(r\"\\s+\", \" \", text)  # Normalize spaces\n",
    "    text = text.strip()  # Remove leading/trailing spaces\n",
    "    return text  # Preserve case & punctuation for better meaning\n"
   ]
  },
  {
   "cell_type": "code",
   "execution_count": 28,
   "id": "059c3e0a-2fa9-4a24-8f77-b935d49f81f0",
   "metadata": {},
   "outputs": [],
   "source": [
    "query_text = \"director academic\"\n",
    "query_embedding = get_embedding(query_text).astype(\"float32\")\n",
    "\n",
    "k = 5  # Retrieve more results for better accuracy\n",
    "distances, indices = index.search(query_embedding, k)\n",
    "\n",
    "retrieved_docs = [text_chunks[i] for i in indices[0]]\n",
    "\n",
    "# 🔹 Improved Print Formatting\n",
    "print(\"\\n🔍 Top Matches:\\n\")\n",
    "for i, doc in enumerate(retrieved_docs, 1):\n",
    "    print(f\"➡️ Match {i}: {doc}\\n\")\n"
   ]
  },
  {
   "cell_type": "code",
   "execution_count": 29,
   "id": "42579e32-e42f-45ba-aa89-36b780e73c4a",
   "metadata": {},
   "outputs": [
    {
     "name": "stdout",
     "output_type": "stream",
     "text": [
      "\n",
      "🔍 Top Matches: ['contact us timings from 0930am to 0400pm only on working days sno name of the faculty designation role email id 1 drtvg sridevi assistant professor hod aimlhodkmitin', 'director academic mrs deepa ganu director academic about deepa ganu deepa ganu the charismatic academic director of keshav memorial institute of technology has always been a proactive person and she has constructively involved herself in all the activities of the college she graduated b tech in ece from pune university and mtech from jntu hyderabad she consistently displays a fervent zeal in the academic progress of the students and the staff she strongly believes in herself and has immense trust in her mentors her peers and her team she took up a mission to ignite the young minds and nurture them with the potential to reach greater horizons she is a studentfriendly person and her forte is to identify their technical edge and channelize their skills in the right direction with her valuable guidance she trained and shared her expertise with thousands of students who could excel and compete on various national and international platforms like microsoft imagine cup ibms the great mind challenge google summer of code and amazon campus mentorship series she conducted various corporate training programmes for reputed campuses like verizon hp and ca global and for government agencies like drdl and rci she dares to dream works smart strives for excellence and enjoys every step of her journey all the way which made her scale greater heights she authored a book titled java spoken tutorials an iit bombay initiative big names in the corporate world like ibm google and virtusa bestowed her with the prestigious titles best mentor and acharya for her unprecedented contribution to pedagogy she has been an inspiration and role model in the field of education and that made her the recipient of the prestigious drona award message welcome to kmit the revered sanctuary of learning with a proven track record of ace placements and students achieving stellar results in academics we would like to invite you to explore the learning opportunities here and pursue a disciplined learning path that will lead to a beautiful career ahead the campus its instructors await with open arms to nourish your talents and witness your unstoppable success all of which will be written in golden letters in the history of kmit mrs deepa ganu', 'contact us timings from 0930am to 0400pm only on working days sno name of the faculty designation role email id 1 mrbalakrishna ushakoyala assistant professor hod hshod1kmitin 2 mrsaritha gone assistant professor hod hshod2kmitin']\n"
     ]
    }
   ],
   "source": [
    "query_embedding = get_embedding(query_text).astype('float32')\n",
    "k = 3 \n",
    "distances, indices = index.search(query_embedding, k)\n",
    "retrieved_docs = [text_chunks[i] for i in indices[0]]\n",
    "print(\"\\n🔍 Top Matches:\", retrieved_docs)\n"
   ]
  },
  {
   "cell_type": "raw",
   "id": "9b42fe29-5462-415d-ab64-e4ab25da19c0",
   "metadata": {},
   "source": []
  }
 ],
 "metadata": {
  "kernelspec": {
   "display_name": "Python 3 (ipykernel)",
   "language": "python",
   "name": "python3"
  },
  "language_info": {
   "codemirror_mode": {
    "name": "ipython",
    "version": 3
   },
   "file_extension": ".py",
   "mimetype": "text/x-python",
   "name": "python",
   "nbconvert_exporter": "python",
   "pygments_lexer": "ipython3",
   "version": "3.12.5"
  }
 },
 "nbformat": 4,
 "nbformat_minor": 5
}
